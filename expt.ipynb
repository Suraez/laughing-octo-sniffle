{
  "nbformat": 4,
  "nbformat_minor": 0,
  "metadata": {
    "colab": {
      "provenance": [],
      "authorship_tag": "ABX9TyMkI2+Uoc1El6aPyPCWAddC",
      "include_colab_link": true
    },
    "kernelspec": {
      "name": "python3",
      "display_name": "Python 3"
    },
    "language_info": {
      "name": "python"
    }
  },
  "cells": [
    {
      "cell_type": "markdown",
      "metadata": {
        "id": "view-in-github",
        "colab_type": "text"
      },
      "source": [
        "<a href=\"https://colab.research.google.com/github/Suraez/laughing-octo-sniffle/blob/main/expt.ipynb\" target=\"_parent\"><img src=\"https://colab.research.google.com/assets/colab-badge.svg\" alt=\"Open In Colab\"/></a>"
      ]
    },
    {
      "cell_type": "markdown",
      "source": [
        "### This is for converting the downloaded raw .txt data to .csv data, Ignore this if you have already got the CSV"
      ],
      "metadata": {
        "id": "4EvIXfjyNnMf"
      }
    },
    {
      "cell_type": "code",
      "source": [
        "import pandas as pd\n",
        "\n",
        "# Specify the input TXT file path and output CSV file path\n",
        "txt_file_path = \"/content/data_2021_azure.txt\"\n",
        "csv_file_path = \"/content/data.csv\"\n",
        "\n",
        "# Load the TXT file into a pandas DataFrame\n",
        "# Assuming the TXT file is comma-separated\n",
        "df = pd.read_csv(txt_file_path, sep=\",\")\n",
        "\n",
        "# Save the DataFrame to a CSV file\n",
        "df.to_csv(csv_file_path, index=False)\n",
        "\n",
        "print(f\"File converted and saved as {csv_file_path}\")\n"
      ],
      "metadata": {
        "colab": {
          "base_uri": "https://localhost:8080/"
        },
        "id": "xOqjknvHL2DX",
        "outputId": "3d94b102-d770-4de3-9236-eb747366e443"
      },
      "execution_count": null,
      "outputs": [
        {
          "output_type": "stream",
          "name": "stdout",
          "text": [
            "File converted and saved as /content/data.csv\n"
          ]
        }
      ]
    },
    {
      "cell_type": "code",
      "source": [
        "from google.colab import drive\n",
        "import pandas as pd\n",
        "\n",
        "# Mount Google Drive\n",
        "drive.mount('/content/drive')\n"
      ],
      "metadata": {
        "colab": {
          "base_uri": "https://localhost:8080/"
        },
        "id": "JYIQpndhN2bs",
        "outputId": "afd8ab80-a025-419f-f477-5d8d69d081a4"
      },
      "execution_count": null,
      "outputs": [
        {
          "output_type": "stream",
          "name": "stdout",
          "text": [
            "Mounted at /content/drive\n"
          ]
        }
      ]
    },
    {
      "cell_type": "code",
      "source": [
        "import numpy as np\n",
        "import pandas as pd\n",
        "import tensorflow as tf\n",
        "from tensorflow.keras.models import Sequential\n",
        "from tensorflow.keras.layers import LSTM, Dense, Dropout\n",
        "from tensorflow.keras.callbacks import EarlyStopping\n",
        "from sklearn.model_selection import train_test_split\n"
      ],
      "metadata": {
        "id": "sXtWpD54fKjh"
      },
      "execution_count": null,
      "outputs": []
    },
    {
      "cell_type": "code",
      "source": [
        "import pandas as pd\n",
        "\n",
        "# Load data\n",
        "df = pd.read_csv('/content/drive/MyDrive/research/data.csv')\n",
        "\n",
        "# Sort by app, func, and end_timestamp to ensure order\n",
        "df = df.sort_values(by=['app', 'func', 'end_timestamp'])\n",
        "\n",
        "# Calculate time interval in seconds between invocations for each function\n",
        "df['time_interval'] = df.groupby(['app', 'func'])['end_timestamp'].diff()\n",
        "df = df.dropna(subset=['time_interval'])  # Remove NaNs resulting from the first invocation\n"
      ],
      "metadata": {
        "id": "vdK4d6ojGXo_"
      },
      "execution_count": null,
      "outputs": []
    },
    {
      "cell_type": "code",
      "source": [
        "intervals = df['time_interval'].values\n"
      ],
      "metadata": {
        "id": "bg5RhfOibnPh"
      },
      "execution_count": null,
      "outputs": []
    },
    {
      "cell_type": "code",
      "source": [
        "sequence_length = 10  # Adjust as needed\n",
        "X = np.lib.stride_tricks.sliding_window_view(intervals, sequence_length)\n",
        "y = intervals[sequence_length:]"
      ],
      "metadata": {
        "id": "JVM3SuDQb8iR"
      },
      "execution_count": null,
      "outputs": []
    },
    {
      "cell_type": "code",
      "source": [
        "# Reshape X for LSTM\n",
        "X = X.reshape((X.shape[0], X.shape[1], 1))  # Reshaping to (samples, sequence_length, features)\n",
        "# Ensure X and y have consistent lengths\n",
        "X = X[:-1]\n"
      ],
      "metadata": {
        "id": "JXT071a0JY6s"
      },
      "execution_count": null,
      "outputs": []
    },
    {
      "cell_type": "markdown",
      "source": [
        "### Normalization of X and Y"
      ],
      "metadata": {
        "id": "Ag8iJCHVDWdL"
      }
    },
    {
      "cell_type": "code",
      "source": [
        "from sklearn.preprocessing import MinMaxScaler\n",
        "\n",
        "scaler = MinMaxScaler()\n",
        "X = scaler.fit_transform(X.reshape(-1, 1)).reshape(X.shape)\n",
        "y = scaler.fit_transform(y.reshape(-1, 1))\n"
      ],
      "metadata": {
        "id": "Ns0M2m7IDViZ"
      },
      "execution_count": null,
      "outputs": []
    },
    {
      "cell_type": "code",
      "source": [
        "# Split into train and test sets\n",
        "from sklearn.model_selection import train_test_split\n",
        "X_train, X_test, y_train, y_test = train_test_split(X, y, test_size=0.2, random_state=42)\n"
      ],
      "metadata": {
        "id": "CJgOtpqXJfuj"
      },
      "execution_count": null,
      "outputs": []
    },
    {
      "cell_type": "code",
      "source": [
        "# Define the LSTM model\n",
        "model = Sequential([\n",
        "    LSTM(50, activation='relu', input_shape=(X_train.shape[1], X_train.shape[2])),\n",
        "    Dropout(0.2),  # Regularization to prevent overfitting\n",
        "    Dense(50, activation='relu'),\n",
        "    Dense(1)  # Output layer\n",
        "])\n",
        "\n",
        "# Compile the model\n",
        "model.compile(optimizer='adam', loss='mse')\n"
      ],
      "metadata": {
        "colab": {
          "base_uri": "https://localhost:8080/"
        },
        "id": "5LYJp7ryDe_I",
        "outputId": "344353e2-357c-4a9d-b93e-70e3037f92b0"
      },
      "execution_count": null,
      "outputs": [
        {
          "output_type": "stream",
          "name": "stderr",
          "text": [
            "/usr/local/lib/python3.10/dist-packages/keras/src/layers/rnn/rnn.py:204: UserWarning: Do not pass an `input_shape`/`input_dim` argument to a layer. When using Sequential models, prefer using an `Input(shape)` object as the first layer in the model instead.\n",
            "  super().__init__(**kwargs)\n"
          ]
        }
      ]
    },
    {
      "cell_type": "code",
      "source": [
        "# Early stopping to prevent overfitting\n",
        "early_stopping = EarlyStopping(monitor='val_loss', patience=10, restore_best_weights=True)\n",
        "\n",
        "# Train the model\n",
        "history = model.fit(X_train, y_train, epochs=2, batch_size=32, validation_split=0.2,\n",
        "                    callbacks=[early_stopping], verbose=1)\n"
      ],
      "metadata": {
        "colab": {
          "base_uri": "https://localhost:8080/"
        },
        "id": "vmWlmbJzECaf",
        "outputId": "5d7c11f4-e9cd-4441-f2bc-9a479cafd46f"
      },
      "execution_count": null,
      "outputs": [
        {
          "output_type": "stream",
          "name": "stdout",
          "text": [
            "Epoch 1/2\n",
            "\u001b[1m39611/39611\u001b[0m \u001b[32m━━━━━━━━━━━━━━━━━━━━\u001b[0m\u001b[37m\u001b[0m \u001b[1m258s\u001b[0m 7ms/step - loss: 3.0607e-05 - val_loss: 2.2008e-05\n",
            "Epoch 2/2\n",
            "\u001b[1m39611/39611\u001b[0m \u001b[32m━━━━━━━━━━━━━━━━━━━━\u001b[0m\u001b[37m\u001b[0m \u001b[1m256s\u001b[0m 6ms/step - loss: 3.0266e-05 - val_loss: 2.1416e-05\n"
          ]
        }
      ]
    },
    {
      "cell_type": "code",
      "source": [
        "# Example usage\n",
        "app_id = '85479ef37b5dc75dd5aeca3bab499129b97a134dac5d740d2c68941de9d63031'  # Replace with the actual app ID\n",
        "func_id = 'e02465de583b6ceffa5b78cce5f10eb27e714a8a6b3aed483be50f30a924071f'  # Replace with the actual function ID\n",
        "next_invocation, predicted_interval = predict_next_invocation(model, X, df, app_id, func_id)\n",
        "print(f\"Predicted next invocation timestamp: {next_invocation}\")\n",
        "print(f\"Predicted time interval: {predicted_interval}\")"
      ],
      "metadata": {
        "colab": {
          "base_uri": "https://localhost:8080/",
          "height": 238
        },
        "id": "f6kPASXrhMqO",
        "outputId": "c54cdc2d-3aa4-4dcf-8e19-5cefd1662321"
      },
      "execution_count": null,
      "outputs": [
        {
          "output_type": "error",
          "ename": "NameError",
          "evalue": "name 'predict_next_invocation' is not defined",
          "traceback": [
            "\u001b[0;31m---------------------------------------------------------------------------\u001b[0m",
            "\u001b[0;31mNameError\u001b[0m                                 Traceback (most recent call last)",
            "\u001b[0;32m<ipython-input-12-979e2b87d9b1>\u001b[0m in \u001b[0;36m<cell line: 4>\u001b[0;34m()\u001b[0m\n\u001b[1;32m      2\u001b[0m \u001b[0mapp_id\u001b[0m \u001b[0;34m=\u001b[0m \u001b[0;34m'85479ef37b5dc75dd5aeca3bab499129b97a134dac5d740d2c68941de9d63031'\u001b[0m  \u001b[0;31m# Replace with the actual app ID\u001b[0m\u001b[0;34m\u001b[0m\u001b[0;34m\u001b[0m\u001b[0m\n\u001b[1;32m      3\u001b[0m \u001b[0mfunc_id\u001b[0m \u001b[0;34m=\u001b[0m \u001b[0;34m'e02465de583b6ceffa5b78cce5f10eb27e714a8a6b3aed483be50f30a924071f'\u001b[0m  \u001b[0;31m# Replace with the actual function ID\u001b[0m\u001b[0;34m\u001b[0m\u001b[0;34m\u001b[0m\u001b[0m\n\u001b[0;32m----> 4\u001b[0;31m \u001b[0mnext_invocation\u001b[0m\u001b[0;34m,\u001b[0m \u001b[0mpredicted_interval\u001b[0m \u001b[0;34m=\u001b[0m \u001b[0mpredict_next_invocation\u001b[0m\u001b[0;34m(\u001b[0m\u001b[0mmodel\u001b[0m\u001b[0;34m,\u001b[0m \u001b[0mX\u001b[0m\u001b[0;34m,\u001b[0m \u001b[0mdf\u001b[0m\u001b[0;34m,\u001b[0m \u001b[0mapp_id\u001b[0m\u001b[0;34m,\u001b[0m \u001b[0mfunc_id\u001b[0m\u001b[0;34m)\u001b[0m\u001b[0;34m\u001b[0m\u001b[0;34m\u001b[0m\u001b[0m\n\u001b[0m\u001b[1;32m      5\u001b[0m \u001b[0mprint\u001b[0m\u001b[0;34m(\u001b[0m\u001b[0;34mf\"Predicted next invocation timestamp: {next_invocation}\"\u001b[0m\u001b[0;34m)\u001b[0m\u001b[0;34m\u001b[0m\u001b[0;34m\u001b[0m\u001b[0m\n\u001b[1;32m      6\u001b[0m \u001b[0mprint\u001b[0m\u001b[0;34m(\u001b[0m\u001b[0;34mf\"Predicted time interval: {predicted_interval}\"\u001b[0m\u001b[0;34m)\u001b[0m\u001b[0;34m\u001b[0m\u001b[0;34m\u001b[0m\u001b[0m\n",
            "\u001b[0;31mNameError\u001b[0m: name 'predict_next_invocation' is not defined"
          ]
        }
      ]
    },
    {
      "cell_type": "code",
      "source": [
        "!git clone https://github.com/Suraez/laughing-octo-sniffle.git\n",
        "%cd laughing-octo-sniffle\n",
        "!git status\n"
      ],
      "metadata": {
        "id": "ut5CgLyshlFi",
        "colab": {
          "base_uri": "https://localhost:8080/"
        },
        "outputId": "a2cbee11-6028-4945-f265-c3ccc68cc7f2"
      },
      "execution_count": null,
      "outputs": [
        {
          "output_type": "stream",
          "name": "stdout",
          "text": [
            "Cloning into 'laughing-octo-sniffle'...\n",
            "remote: Enumerating objects: 10, done.\u001b[K\n",
            "remote: Counting objects: 100% (10/10), done.\u001b[K\n",
            "remote: Compressing objects: 100% (9/9), done.\u001b[K\n",
            "remote: Total 10 (delta 0), reused 4 (delta 0), pack-reused 0 (from 0)\u001b[K\n",
            "Receiving objects: 100% (10/10), 4.92 KiB | 4.92 MiB/s, done.\n",
            "/content/laughing-octo-sniffle\n",
            "On branch main\n",
            "Your branch is up to date with 'origin/main'.\n",
            "\n",
            "nothing to commit, working tree clean\n"
          ]
        }
      ]
    },
    {
      "cell_type": "markdown",
      "source": [
        "### Code for counting the unique value in a column"
      ],
      "metadata": {
        "id": "NRylTbaL8ron"
      }
    },
    {
      "cell_type": "code",
      "source": [
        "# Replace 'file_path' with the path to your CSV file\n",
        "file_path = '/content/sampled_dataset.csv'\n",
        "# Replace 'column_name' with the name of the column you want to analyze\n",
        "column_name = 'HashFunction'\n",
        "\n",
        "def count_unique_values(file_path, column_name):\n",
        "    try:\n",
        "        # Load the CSV file into a DataFrame\n",
        "        df = pd.read_csv(file_path)\n",
        "        # Count the number of unique values in the specified column\n",
        "        unique_count = df[column_name].nunique()\n",
        "        return unique_count\n",
        "    except Exception as e:\n",
        "        print(f\"Error: {e}\")\n",
        "        return None\n",
        "\n",
        "unique_count = count_unique_values(file_path, column_name)\n",
        "\n",
        "if unique_count is not None:\n",
        "    print(f\"Number of unique values in column '{column_name}': {unique_count}\")\n"
      ],
      "metadata": {
        "id": "vmGmAd2CTXG_",
        "colab": {
          "base_uri": "https://localhost:8080/"
        },
        "outputId": "0573a306-e904-4410-f1eb-2277d5c44001"
      },
      "execution_count": null,
      "outputs": [
        {
          "output_type": "stream",
          "name": "stdout",
          "text": [
            "Number of unique values in column 'HashFunction': 40\n"
          ]
        }
      ]
    },
    {
      "cell_type": "markdown",
      "source": [
        "### Sampling the Azure Function Invocation Traceset 2019"
      ],
      "metadata": {
        "id": "6alJcruT55Mc"
      }
    },
    {
      "cell_type": "code",
      "source": [
        "# Assume 'file_path' is the path to your dataset\n",
        "file_path = '/content/drive/MyDrive/research/data2019.csv'\n",
        "\n",
        "# Load the dataset\n",
        "df = pd.read_csv(file_path)\n",
        "\n",
        "# Step 1: Select the first 480 minute columns (representing the 8-hour period)\n",
        "# The minute columns are assumed to start at index 3 (after 'HashOwner', 'HashApp', 'HashFunction')\n",
        "start_minute = 4  # Starting index for minute columns\n",
        "end_minute = start_minute + 480  # Select 480 columns for 8 hours\n",
        "selected_columns = ['HashOwner','HashApp', 'HashFunction', 'Trigger'] + df.columns[start_minute:end_minute].tolist()\n",
        "\n",
        "df_subset = df[selected_columns]\n",
        "\n",
        "# Step 2: Randomly sample 20 unique functions\n",
        "# Get unique functions from the 'HashFunction' column\n",
        "unique_functions = df_subset['HashFunction'].unique()\n",
        "\n",
        "# Randomly select 20 functions\n",
        "sampled_functions = pd.Series(unique_functions).sample(n=20, random_state=42).tolist()\n",
        "\n",
        "# Step 3: Filter the dataset for the sampled functions\n",
        "filtered_df = df_subset[df_subset['HashFunction'].isin(sampled_functions)]\n",
        "\n",
        "# Save the sampled dataset to a new file (optional)\n",
        "filtered_df.to_csv('sampled_dataset.csv', index=False)\n",
        "\n",
        "print(\"Dataset sampled for 8 hours and 20 functions. Saved to 'sampled_dataset.csv'.\")\n"
      ],
      "metadata": {
        "colab": {
          "base_uri": "https://localhost:8080/"
        },
        "id": "fRVXzIIz3OpC",
        "outputId": "531d633c-5056-4a3b-870d-e2ac9c2d0bfd"
      },
      "execution_count": null,
      "outputs": [
        {
          "output_type": "stream",
          "name": "stdout",
          "text": [
            "Dataset sampled for 8 hours and 20 functions. Saved to 'sampled_dataset.csv'.\n"
          ]
        }
      ]
    },
    {
      "cell_type": "markdown",
      "source": [
        "### printing out rows having values greater than 1"
      ],
      "metadata": {
        "id": "d9pHiu4sAZvo"
      }
    },
    {
      "cell_type": "code",
      "source": [
        "\n",
        "# Step 1: Select the relevant columns (index 4 to 483)\n",
        "numeric_columns = filtered_df.columns[3:483]  # Column indices are 0-based\n",
        "\n",
        "# Step 2: Filter rows where any value in the specified columns is greater than 1\n",
        "rows_with_values_gt_1 = filtered_df[(filtered_df[numeric_columns] > 1).any(axis=1)]\n",
        "\n",
        "# Step 3: Print the filtered rows\n",
        "print(rows_with_values_gt_1)\n",
        "\n",
        "# Save to a CSV file (optional)\n",
        "rows_with_values_gt_1.to_csv('rows_with_values_gt_1.csv', index=False)\n"
      ],
      "metadata": {
        "id": "ZL8Fyc0W5uCJ"
      },
      "execution_count": null,
      "outputs": []
    }
  ]
}